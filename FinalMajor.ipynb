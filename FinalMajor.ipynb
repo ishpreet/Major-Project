{
 "cells": [
  {
   "cell_type": "code",
   "execution_count": 1,
   "metadata": {},
   "outputs": [
    {
     "name": "stderr",
     "output_type": "stream",
     "text": [
      "/anaconda3/lib/python3.6/site-packages/h5py/__init__.py:36: FutureWarning: Conversion of the second argument of issubdtype from `float` to `np.floating` is deprecated. In future, it will be treated as `np.float64 == np.dtype(float).type`.\n",
      "  from ._conv import register_converters as _register_converters\n",
      "Using TensorFlow backend.\n"
     ]
    }
   ],
   "source": [
    "import cv2\n",
    "import numpy as np\n",
    "import matplotlib.pyplot as plt\n",
    "import os\n",
    "import pandas as pd\n",
    "\n",
    "%matplotlib notebook\n",
    "\n",
    "import keras\n",
    "\n",
    "from keras.layers import Convolution2D, Flatten, Dense, MaxPool2D, Activation, Dropout\n",
    "from keras.models import Sequential\n",
    "from keras.utils import np_utils"
   ]
  },
  {
   "cell_type": "code",
   "execution_count": 2,
   "metadata": {},
   "outputs": [],
   "source": [
    "dirs = os.listdir('/Users/ishpreet/Desktop/Major Project/Datasets/')\n",
    "path = '/Users/ishpreet/Desktop/Major Project/Datasets/'\n",
    "# flag=0\n",
    "# labels = []\n",
    "# lab=[]\n",
    "langName = []"
   ]
  },
  {
   "cell_type": "code",
   "execution_count": 8,
   "metadata": {},
   "outputs": [],
   "source": [
    "def removeblank(charimg):\n",
    "    \n",
    "    cimg = charimg.copy()\n",
    "    \n",
    "    r,c = cimg.shape\n",
    "    \n",
    "    minrow = np.inf\n",
    "    maxrow = -1*np.inf\n",
    "    mincol = np.inf\n",
    "    maxcol = -1*np.inf\n",
    "    \n",
    "    for i in range(r):\n",
    "            \n",
    "        for j in range(c):\n",
    "\n",
    "            if(cimg[i][j]==255 and i<minrow):\n",
    "                minrow = i\n",
    "\n",
    "\n",
    "            if(cimg[i][j]==255 and i>maxrow):\n",
    "                maxrow = i\n",
    "\n",
    "\n",
    "            if(cimg[i][j]==255 and j<mincol):\n",
    "                mincol = j\n",
    "\n",
    "\n",
    "            if(cimg[i][j]==255 and j>maxcol):\n",
    "                maxcol = j\n",
    "            \n",
    "    \n",
    "    new = cimg[minrow:maxrow+1 , mincol:maxcol+1]\n",
    "    \n",
    "    return new"
   ]
  },
  {
   "cell_type": "code",
   "execution_count": 9,
   "metadata": {},
   "outputs": [
    {
     "name": "stdout",
     "output_type": "stream",
     "text": [
      "Hindi\n",
      "English\n",
      "Tamil\n"
     ]
    }
   ],
   "source": [
    "# c = 0\n",
    "# x = 0\n",
    "lanc = 0\n",
    "imgarr = []\n",
    "#fl = 0\n",
    "#chim=[]\n",
    "\n",
    "for i in dirs:\n",
    "    \n",
    "  \n",
    "    if(i[0]=='.'):\n",
    "        continue\n",
    "   \n",
    "\n",
    "    print(i)\n",
    "    \n",
    "    st = path+i\n",
    "\n",
    "    \n",
    "    for j in os.listdir(st):\n",
    "        \n",
    "        \n",
    "        if(j[0]=='.'):\n",
    "            continue\n",
    "            \n",
    "        st2 = st+'/'+j\n",
    "#         x = x+1\n",
    "        \n",
    "        count_img = 0\n",
    "        \n",
    "        for k in os.listdir(st2):\n",
    "            \n",
    "            if(k[0]=='.'):\n",
    "                continue\n",
    "            \n",
    "            img = cv2.imread(st2+'/'+k, 0)\n",
    "            \n",
    "            count_img+=1\n",
    "            \n",
    "            if((i=='English' and count_img>180) or (i=='Hindi' and count_img>240)):\n",
    "                break\n",
    "            \n",
    "            if(i=='Hindi'):\n",
    "                random , img = cv2.threshold(img,0,255,cv2.THRESH_BINARY+cv2.THRESH_OTSU)\n",
    "                \n",
    "            else:          \n",
    "                random , img = cv2.threshold(img,0,255,cv2.THRESH_BINARY_INV+cv2.THRESH_OTSU)\n",
    "            \n",
    "            \n",
    "            img = img.astype('uint8')\n",
    "            \n",
    "            finimg = img\n",
    "        \n",
    "            finimg = removeblank(finimg)\n",
    "\n",
    "            finimg = cv2.resize(finimg, dsize=(25, 25), interpolation=cv2.INTER_CUBIC)\n",
    "\n",
    "            random , finimg = cv2.threshold(finimg,0,255,cv2.THRESH_BINARY+cv2.THRESH_OTSU)\n",
    "\n",
    "#             c = c+1\n",
    "\n",
    "            \n",
    "#             labels.append(i+j)\n",
    "#             lab.append(x)\n",
    "            imgarr.append(finimg)\n",
    "    \n",
    "            langName.append(lanc)\n",
    "            \n",
    "    lanc = lanc+1"
   ]
  },
  {
   "cell_type": "code",
   "execution_count": 32,
   "metadata": {},
   "outputs": [
    {
     "data": {
      "text/plain": [
       "<matplotlib.image.AxesImage at 0xb38c2db38>"
      ]
     },
     "execution_count": 32,
     "metadata": {},
     "output_type": "execute_result"
    },
    {
     "data": {
      "image/png": "[encoded data removed]",
      "text/plain": [
       "<Figure size 432x288 with 1 Axes>"
      ]
     },
     "metadata": {},
     "output_type": "display_data"
    }
   ],
   "source": [
    "plt.imshow(imgarr[32598],cmap = 'gray')"
   ]
  },
  {
   "cell_type": "code",
   "execution_count": 10,
   "metadata": {},
   "outputs": [
    {
     "data": {
      "text/plain": [
       "(32600, 3)"
      ]
     },
     "execution_count": 10,
     "metadata": {},
     "output_type": "execute_result"
    }
   ],
   "source": [
    "labs = np_utils.to_categorical(langName)\n",
    "labs.shape"
   ]
  },
  {
   "cell_type": "code",
   "execution_count": 11,
   "metadata": {},
   "outputs": [
    {
     "data": {
      "text/plain": [
       "(array([0, 1, 2]), array([11040, 11160, 10400]))"
      ]
     },
     "execution_count": 11,
     "metadata": {},
     "output_type": "execute_result"
    }
   ],
   "source": [
    "np.unique(langName,return_counts=True)"
   ]
  },
  {
   "cell_type": "code",
   "execution_count": 34,
   "metadata": {},
   "outputs": [],
   "source": [
    "imgarr = np.array(imgarr).reshape((len(imgarr), 25, 25, 1))"
   ]
  },
  {
   "cell_type": "code",
   "execution_count": 38,
   "metadata": {},
   "outputs": [
    {
     "name": "stdout",
     "output_type": "stream",
     "text": [
      "_________________________________________________________________\n",
      "Layer (type)                 Output Shape              Param #   \n",
      "=================================================================\n",
      "conv2d_4 (Conv2D)            (None, 23, 23, 32)        320       \n",
      "_________________________________________________________________\n",
      "activation_5 (Activation)    (None, 23, 23, 32)        0         \n",
      "_________________________________________________________________\n",
      "conv2d_5 (Conv2D)            (None, 21, 21, 16)        4624      \n",
      "_________________________________________________________________\n",
      "activation_6 (Activation)    (None, 21, 21, 16)        0         \n",
      "_________________________________________________________________\n",
      "max_pooling2d_3 (MaxPooling2 (None, 10, 10, 16)        0         \n",
      "_________________________________________________________________\n",
      "conv2d_6 (Conv2D)            (None, 8, 8, 8)           1160      \n",
      "_________________________________________________________________\n",
      "activation_7 (Activation)    (None, 8, 8, 8)           0         \n",
      "_________________________________________________________________\n",
      "max_pooling2d_4 (MaxPooling2 (None, 4, 4, 8)           0         \n",
      "_________________________________________________________________\n",
      "flatten_2 (Flatten)          (None, 128)               0         \n",
      "_________________________________________________________________\n",
      "dropout_2 (Dropout)          (None, 128)               0         \n",
      "_________________________________________________________________\n",
      "dense_2 (Dense)              (None, 3)                 387       \n",
      "_________________________________________________________________\n",
      "activation_8 (Activation)    (None, 3)                 0         \n",
      "=================================================================\n",
      "Total params: 6,491\n",
      "Trainable params: 6,491\n",
      "Non-trainable params: 0\n",
      "_________________________________________________________________\n"
     ]
    }
   ],
   "source": [
    "model = Sequential()\n",
    "\n",
    "model.add(Convolution2D(32, (3, 3), input_shape=(25, 25, 1)))\n",
    "model.add(Activation('relu'))\n",
    "\n",
    "model.add(Convolution2D(16, (3, 3)))\n",
    "model.add(Activation('relu'))\n",
    "\n",
    "model.add(MaxPool2D(pool_size=(2, 2)))\n",
    "\n",
    "model.add(Convolution2D(8, (3, 3)))\n",
    "model.add(Activation('relu'))\n",
    "\n",
    "model.add(MaxPool2D(pool_size=(2, 2)))\n",
    "\n",
    "model.add(Flatten())\n",
    "model.add(Dropout(0.4))\n",
    "\n",
    "model.add(Dense(labs.shape[1]))\n",
    "model.add(Activation('softmax'))\n",
    "\n",
    "model.summary()\n",
    "model.compile(loss='categorical_crossentropy', optimizer='adam', metrics=['accuracy'])"
   ]
  },
  {
   "cell_type": "code",
   "execution_count": 44,
   "metadata": {},
   "outputs": [
    {
     "name": "stdout",
     "output_type": "stream",
     "text": [
      "Train on 29340 samples, validate on 3260 samples\n",
      "Epoch 1/1\n",
      "29340/29340 [==============================] - 11s 369us/step - loss: 0.3419 - acc: 0.8580 - val_loss: 0.7602 - val_acc: 0.7374\n"
     ]
    }
   ],
   "source": [
    "hist = model.fit(imgarr, labs,\n",
    "                epochs=1,\n",
    "                shuffle=True,\n",
    "                batch_size=100,\n",
    "                validation_split=0.1)"
   ]
  },
  {
   "cell_type": "code",
   "execution_count": 45,
   "metadata": {},
   "outputs": [
    {
     "name": "stdout",
     "output_type": "stream",
     "text": [
      "Saved model to disk\n"
     ]
    }
   ],
   "source": [
    "from keras.models import model_from_json\n",
    "model_json = model.to_json()\n",
    "with open(\"hindengtamwithcrop.json73\", \"w\") as json_file:\n",
    "    json_file.write(model_json)\n",
    "# serialize weights to HDF5\n",
    "model.save_weights(\"hindengtamwithcrop73.h5\")\n",
    "print(\"Saved model to disk\")"
   ]
  },
  {
   "cell_type": "code",
   "execution_count": null,
   "metadata": {},
   "outputs": [],
   "source": [
    "# load json and create model\n",
    "from keras.models import model_from_json\n",
    "json_file = open('hindengbeng76.json', 'r')\n",
    "loaded_model_json = json_file.read()\n",
    "json_file.close()\n",
    "loaded_model = model_from_json(loaded_model_json)\n",
    "# load weights into new model\n",
    "loaded_model.load_weights(\"hindengbeng76.h5\")\n",
    "print(\"Loaded model from disk\")\n",
    " \n",
    "# evaluate loaded model on test data\n",
    "loaded_model.compile(loss='binary_crossentropy', optimizer='rmsprop', metrics=['accuracy'])\n",
    "\n",
    "model = loaded_model "
   ]
  },
  {
   "cell_type": "code",
   "execution_count": 46,
   "metadata": {},
   "outputs": [],
   "source": [
    "def sepwords(img1, cord):\n",
    "    img = img1.copy()\n",
    "    count = 0\n",
    "    coun = 0\n",
    "    fincord = []\n",
    "    \n",
    "    area = []\n",
    "    \n",
    "    for n in range(len(cord)):\n",
    "\n",
    "        if(cord[n][2]/cord[n][3]<2):\n",
    "\n",
    "            fincord.append(cord[n])\n",
    "            area.append(cord[n][2]*cord[n][3])\n",
    "            continue\n",
    "            \n",
    "        coun += 1\n",
    "\n",
    "        hinimg = img[chars[n][1]:chars[n][1]+chars[n][3], chars[n][0]:chars[n][0]+chars[n][2]].copy()\n",
    "        \n",
    "#         %matplotlib notebook\n",
    "#         plt.figure(coun)\n",
    "        \n",
    "#         break\n",
    "        \n",
    "        r,c = hinimg.shape\n",
    "        s = []\n",
    "        s1=0\n",
    "        ms = 0\n",
    "        \n",
    "\n",
    "        for i in range(r):\n",
    "            s1=0   \n",
    "            for j in range(c):\n",
    "\n",
    "                s1+=hinimg[i][j]\n",
    "\n",
    "            if s1>=ms:\n",
    "                ms = s1\n",
    "                rowOfline = i\n",
    "                \n",
    "\n",
    "            s.append(s1)\n",
    "\n",
    "\n",
    "        rows2del = []\n",
    "        n1 = 2\n",
    "        for i in range(r):\n",
    "\n",
    "            if s[i]>=0.80*ms:\n",
    "\n",
    "                for j in  range(c):\n",
    "\n",
    "                    hinimg[i][j] = 0\n",
    "        \n",
    "        if coun == n1 : \n",
    "            hinimg2 = hinimg\n",
    "#             plt.figure(count)\n",
    "#             plt.imshow(hinimg,cmap='gray')\n",
    "            count += 1\n",
    "\n",
    "        hini = hinimg.copy()\n",
    "        char = []\n",
    "        \n",
    "        image1, contours1, hierarchy1 = cv2.findContours(hini,cv2.RETR_EXTERNAL,cv2.CHAIN_APPROX_SIMPLE)\n",
    "        #img = cv2.drawContours(Image, contours, -1, (0,255,0), 3)\n",
    "        \n",
    "        for contour in contours1:\n",
    "                # get rectangle bounding contour\n",
    "            [x, y, w, h] = cv2.boundingRect(contour)\n",
    "            \n",
    "            if(y<rowOfline):\n",
    "                continue\n",
    "\n",
    "            if coun == n1 :\n",
    "                print (x, y, w, h)\n",
    "                hinimg1 = img[chars[n][1] + y-2:chars[n][1] + y+h, chars[n][0]+x: chars[n][0]+x+w]\n",
    "#                 plt.figure(count)\n",
    "#                 plt.imshow(hinimg1,cmap = 'gray')\n",
    "                count += 1\n",
    "            fincord.append((chars[n][0]+x, chars[n][1]+y-2, w, h+2))\n",
    "            area.append(w*h)  \n",
    "            \n",
    "    plt.figure(1)\n",
    "    plt.hist(area, bins = 30, range = (0, 500))  \n",
    "    print(coun)\n",
    "    \n",
    "    return fincord, hinimg2"
   ]
  },
  {
   "cell_type": "code",
   "execution_count": 47,
   "metadata": {},
   "outputs": [
    {
     "name": "stdout",
     "output_type": "stream",
     "text": [
      "(561, 602)\n",
      "213\n",
      "{0: 32, 2: 91, 1: 31}\n",
      "ProbPred {'Hindi': 36.59895, 'English': 30.38267, 'Tamil': 85.01839}\n"
     ]
    },
    {
     "data": {
      "image/png": "[encoded data removed]",
      "text/plain": [
       "<Figure size 432x288 with 1 Axes>"
      ]
     },
     "metadata": {},
     "output_type": "display_data"
    },
    {
     "data": {
      "image/png": "[encoded data removed]",
      "text/plain": [
       "<Figure size 432x288 with 1 Axes>"
      ]
     },
     "metadata": {},
     "output_type": "display_data"
    },
    {
     "data": {
      "image/png": "[encoded data removed]",
      "text/plain": [
       "<Figure size 432x288 with 1 Axes>"
      ]
     },
     "metadata": {},
     "output_type": "display_data"
    },
    {
     "data": {
      "image/png": "[encoded data removed]",
      "text/plain": [
       "<Figure size 432x288 with 1 Axes>"
      ]
     },
     "metadata": {},
     "output_type": "display_data"
    },
    {
     "data": {
      "image/png": "[encoded data removed]",
      "text/plain": [
       "<Figure size 432x288 with 1 Axes>"
      ]
     },
     "metadata": {},
     "output_type": "display_data"
    },
    {
     "data": {
      "image/png": "[encoded data removed]",
      "text/plain": [
       "<Figure size 432x288 with 1 Axes>"
      ]
     },
     "metadata": {},
     "output_type": "display_data"
    },
    {
     "data": {
      "image/png": "[encoded data removed]",
      "text/plain": [
       "<Figure size 432x288 with 1 Axes>"
      ]
     },
     "metadata": {},
     "output_type": "display_data"
    },
    {
     "data": {
      "image/png": "[encoded data removed]",
      "text/plain": [
       "<Figure size 432x288 with 1 Axes>"
      ]
     },
     "metadata": {},
     "output_type": "display_data"
    },
    {
     "data": {
      "image/png": "[encoded data removed]",
      "text/plain": [
       "<Figure size 432x288 with 1 Axes>"
      ]
     },
     "metadata": {},
     "output_type": "display_data"
    },
    {
     "data": {
      "image/png": "[encoded data removed]",
      "text/plain": [
       "<Figure size 432x288 with 1 Axes>"
      ]
     },
     "metadata": {},
     "output_type": "display_data"
    },
    {
     "data": {
      "image/png": "[encoded data removed]",
      "text/plain": [
       "<Figure size 432x288 with 1 Axes>"
      ]
     },
     "metadata": {},
     "output_type": "display_data"
    }
   ],
   "source": [
    "predDict = {'Hindi':0 , 'English':0 , 'Tamil':0}\n",
    "\n",
    "Image=cv2.imread('tam5.jpeg', 0)\n",
    "kernel = np.ones((1,1),np.uint8)\n",
    "Image = cv2.morphologyEx(Image, cv2.MORPH_CLOSE, kernel)\n",
    "# plt.show()\n",
    "\n",
    "rimg , cimg = Image.shape\n",
    "#Image = cv2.resize(Image, dsize=(500, 500*cimg//rimg), interpolation=cv2.INTER_CUBIC)\n",
    "#create a CLAHE object (Arguments are optional).\n",
    "# plt.imshow(img,cmap = 'gray')\n",
    "clahe = cv2.createCLAHE(clipLimit=2.0, tileGridSize=(8,8))\n",
    "\n",
    "Image = clahe.apply(Image)\n",
    "\n",
    "plt.figure(0)\n",
    "plt.imshow(Image)\n",
    "\n",
    "I=Image.copy()\n",
    "\n",
    "i=Image.copy()\n",
    "G_Image=Image\n",
    "\n",
    "print(i.shape)\n",
    "chars = []\n",
    "\n",
    "#Otsu Thresholding\n",
    "blur = cv2.GaussianBlur(G_Image,(1,1),0)\n",
    "\n",
    "ret,th = cv2.threshold(blur,0,255,cv2.THRESH_BINARY_INV+cv2.THRESH_OTSU)\n",
    "\n",
    "\n",
    "# kernel = np.ones((3,3),np.uint8)\n",
    "# th = cv2.morphologyEx(th, cv2.MORPH_CLOSE, kernel)\n",
    "\n",
    "\n",
    "# grab the (x, y) coordinates of all pixel values that\n",
    "# are greater than zero, then use these coordinates to\n",
    "# compute a rotated bounding box that contains all\n",
    "# coordinates\n",
    "coords = np.column_stack(np.where(th > 0))\n",
    "angle = cv2.minAreaRect(coords)[-1]\n",
    " \n",
    "\n",
    "# the `cv2.minAreaRect` function returns values in the\n",
    "# range [-90, 0); as the rectangle rotates clockwise the\n",
    "# returned angle trends to 0 -- in this special case we\n",
    "# need to add 90 degrees to the angle\n",
    "if angle < -45:\n",
    "    angle = -(90 + angle)\n",
    "\n",
    "    \n",
    "else:    \n",
    "    angle = - angle\n",
    "    \n",
    "\n",
    "# rotate the image to deskew it\n",
    "(h, w) = Image.shape[:2]\n",
    "center = (w // 2, h // 2)\n",
    "M = cv2.getRotationMatrix2D(center, angle, 1.0)\n",
    "th = cv2.warpAffine(th, M, (w, h),flags=cv2.INTER_CUBIC, borderMode=cv2.BORDER_REPLICATE)\n",
    "\n",
    "#%matplotlib notebook\n",
    "#plt.imshow(th,cmap = 'gray')\n",
    "\n",
    "# plt.imshow(th,cmap = 'gray')\n",
    "image, contours, hierarchy = cv2.findContours(th,cv2.RETR_EXTERNAL,cv2.CHAIN_APPROX_SIMPLE)\n",
    "\n",
    "#print('len',len(contours))\n",
    "#img = cv2.drawContours(Image, contours, -1, (0,255,0), 3)\n",
    "area = []\n",
    "for contour in contours:\n",
    "        # get rectangle bounding contour\n",
    "    [x, y, w, h] = cv2.boundingRect(contour)\n",
    "        \n",
    "    chars.append((x,y,w,h))\n",
    "    area.append(w*h)\n",
    "#         if h>20:\n",
    "#             continue\n",
    "\n",
    "#     cv2.rectangle(Image, (x, y), (x + w, y + h), (0, 0, 0),1)\n",
    "\n",
    "\n",
    "# %matplotlib notebook\n",
    "# plt.imshow(Image)\n",
    "# plt.figure(1)\n",
    "# plt.hist(area, bins = 30, range = (0, 100))\n",
    "\n",
    "newchar =[]\n",
    "i = th.copy()\n",
    "newchar, hinimg1 = sepwords(th,chars)\n",
    "\n",
    "# plt.imshow(th)\n",
    "# print('check' , i == th)\n",
    "chars = newchar\n",
    "\n",
    "\n",
    "checkar = []\n",
    "checkarlab = []\n",
    "checkcord = []\n",
    "pred = {}\n",
    "count = 0\n",
    "\n",
    "for n in range(len(chars)):\n",
    "    \n",
    "    finimg = i[chars[n][1]:chars[n][1]+chars[n][3], chars[n][0]:chars[n][0]+chars[n][2]]\n",
    "    \n",
    "    if(finimg.shape[0]*finimg.shape[1] > rimg*cimg*0.00015):\n",
    "        \n",
    "        #print('ndjicnsi')\n",
    "        \n",
    "        checkcord.append(chars[n])\n",
    "        \n",
    "#         cv2.rectangle(Image, (chars[n][0], chars[n][1]), (chars[n][0] + chars[n][2], chars[n][1] + chars[n][3]), (0, 0, 0), 2)\n",
    "\n",
    "        finimg = finimg.astype('uint8')\n",
    "        random, finimg = cv2.threshold(finimg,0,255,cv2.THRESH_BINARY+cv2.THRESH_OTSU)\n",
    "        \n",
    "        plt.figure(0)\n",
    "        plt.imshow(finimg, cmap='gray')\n",
    "\n",
    "        finimg = cv2.resize(finimg, dsize=(25, 25), interpolation=cv2.INTER_CUBIC)\n",
    "\n",
    "        random , finimg = cv2.threshold(finimg,0,255,cv2.THRESH_BINARY+cv2.THRESH_OTSU)\n",
    "        checkar.append(finimg)\n",
    "        \n",
    "        if count > 20 and count < 30 :\n",
    "            plt.figure(count)\n",
    "            plt.imshow(finimg) \n",
    "        \n",
    "        \n",
    "        finimg = np.array(finimg).reshape(( -1,25, 25, 1))\n",
    "        predval = model.predict(finimg)\n",
    "        \n",
    "        #print(predval)\n",
    "        \n",
    "         \n",
    "        \n",
    "#         if count > 20 and count < 30 :\n",
    "#             print (predval)\n",
    "        \n",
    "        count += 1\n",
    "        checkarlab.append(predval)\n",
    "        try:\n",
    "            predDict['Hindi'] += predval[0][0]\n",
    "            predDict['English'] += predval[0][1]\n",
    "            predDict['Tamil'] += predval[0][2]\n",
    "            pred[np.argmax(predval)]=pred[np.argmax(predval)]+1\n",
    "\n",
    "        except:\n",
    "            \n",
    "            predDict['Hindi'] = predval[0][0]\n",
    "            predDict['English'] = predval[0][1]\n",
    "            predDict['Tamil'] = predval[0][2]\n",
    "            pred[np.argmax(predval)]=1\n",
    "\n",
    "# %matplotlib notebook\n",
    "# plt.imshow(Image, cmap='gray')\n",
    "\n",
    "print(pred)\n",
    "print(\"ProbPred\" , predDict)"
   ]
  },
  {
   "cell_type": "code",
   "execution_count": null,
   "metadata": {},
   "outputs": [],
   "source": []
  }
 ],
 "metadata": {
  "kernelspec": {
   "display_name": "Python 3",
   "language": "python",
   "name": "python3"
  },
  "language_info": {
   "codemirror_mode": {
    "name": "ipython",
    "version": 3
   },
   "file_extension": ".py",
   "mimetype": "text/x-python",
   "name": "python",
   "nbconvert_exporter": "python",
   "pygments_lexer": "ipython3",
   "version": "3.6.5"
  }
 },
 "nbformat": 4,
 "nbformat_minor": 2
}
